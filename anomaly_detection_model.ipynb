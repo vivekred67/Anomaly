{
  "cells": [
    {
      "cell_type": "code",
      "execution_count": null,
      "metadata": {
        "colab": {
          "background_save": true
        },
        "id": "Z8lEYuJLNz4m"
      },
      "outputs": [],
      "source": [
        "!pip install tensorflow==1.14.0 #run"
      ]
    },
    {
      "cell_type": "code",
      "execution_count": null,
      "metadata": {
        "id": "dNCVEMZ5NLoj"
      },
      "outputs": [],
      "source": [
        "!unzip /content/models.zip"
      ]
    },
    {
      "cell_type": "code",
      "execution_count": null,
      "metadata": {
        "id": "lSV0psXlZd2d"
      },
      "outputs": [],
      "source": [
        "#!rm -r /content/data"
      ]
    },
    {
      "cell_type": "code",
      "execution_count": null,
      "metadata": {
        "id": "syGcnSI5ejBE"
      },
      "outputs": [],
      "source": [
        "!mkdir data"
      ]
    },
    {
      "cell_type": "code",
      "execution_count": null,
      "metadata": {
        "id": "DYcnoGGGef0L"
      },
      "outputs": [],
      "source": [
        "#convert video to frames\n",
        "#run\n",
        "import cv2\n",
        "vidcap = cv2.VideoCapture('/content/test 2.mp4')\n",
        "def getFrame(sec):\n",
        "    vidcap.set(cv2.CAP_PROP_POS_MSEC,sec*100)\n",
        "    hasFrames,image = vidcap.read()\n",
        "    if hasFrames:\n",
        "        cv2.imwrite(\"/content/data/frame\"+str(count)+\".jpg\", image)\n",
        "    return hasFrames\n",
        "sec = 0\n",
        "frameRate = 0.5\n",
        "count=1\n",
        "success = getFrame(sec)\n",
        "while success:\n",
        "    count = count + 1\n",
        "    sec = sec + frameRate\n",
        "    sec = round(sec, 2)\n",
        "    success = getFrame(sec)"
      ]
    },
    {
      "cell_type": "code",
      "execution_count": null,
      "metadata": {
        "id": "mwPm378GEf1m"
      },
      "outputs": [],
      "source": [
        "!pip install PyDrive\n",
        "from pydrive.auth import GoogleAuth\n",
        "from pydrive.drive import GoogleDrive\n",
        "from google.colab import auth\n",
        "from oauth2client.client import GoogleCredentials\n",
        "auth.authenticate_user()\n",
        "gauth = GoogleAuth()\n",
        "gauth.credentials = GoogleCredentials.get_application_default()\n",
        "drive = GoogleDrive(gauth)"
      ]
    },
    {
      "cell_type": "code",
      "execution_count": null,
      "metadata": {
        "id": "p3pMPjGLFlfs"
      },
      "outputs": [],
      "source": [
        "#run\n",
        "download = drive.CreateFile({'id': '1DpXhjXw9v4mwubR2bw8Yw72MhuqWDQQJ'})\n",
        "download.GetContentFile('c3d_ucf101_finetune_whole_iter_20000_TF.model')"
      ]
    },
    {
      "cell_type": "code",
      "execution_count": null,
      "metadata": {
        "id": "PVkvovqfFqSH"
      },
      "outputs": [],
      "source": [
        "#run\n",
        "import shutil, sys\n",
        "shutil.move(\"c3d_ucf101_finetune_whole_iter_20000_TF.model\", \"models/pretrained_models/\") "
      ]
    },
    {
      "cell_type": "code",
      "execution_count": null,
      "metadata": {
        "id": "F_7dtTspPWfH"
      },
      "outputs": [],
      "source": [
        "#run\n",
        "download = drive.CreateFile({'id': '1t8izbDP39J1UdUtKbv2UBeT9xXF28g5L'})\n",
        "download.GetContentFile('checkpoint.zip')"
      ]
    },
    {
      "cell_type": "code",
      "execution_count": null,
      "metadata": {
        "id": "m6nStM3RPjxj"
      },
      "outputs": [],
      "source": [
        "#run\n",
        "!unzip checkpoint.zip"
      ]
    },
    {
      "cell_type": "code",
      "execution_count": null,
      "metadata": {
        "id": "skrTGPb4bqLD"
      },
      "outputs": [],
      "source": [
        "#run\n",
        "import cv2\n",
        "import os\n",
        "import numpy as np\n",
        "#import matplotlib.pyplot as plt\n",
        "\n",
        "class Video(object):\n",
        "\n",
        "    def __init__(self, filename, isAnomaly, width=320, height=240):\n",
        "        if filename is None:\n",
        "            raise ValueError(\"invalid filename argument\")\n",
        "        self.isAnomaly=isAnomaly\n",
        "        self.filename = filename\n",
        "        self.frames=[]\n",
        "        self.frameCount = 0\n",
        "        self.width = width\n",
        "        self.height = height\n",
        "        self.__setFrames()\n",
        "\n",
        "\n",
        "    def __split(self):\n",
        "        print(self.filename)\n",
        "        if os.path.exists(self.filename) is False:\n",
        "            raise ValueError(\"Video File Not Found. Could not find: %s\" % ('dataset/videos/'+self.filename))\n",
        "        videoSource = cv2.VideoCapture(self.filename)\n",
        "        success,image = videoSource.read() #success is true if file exist, and loads first frame in image\n",
        "        count = 0\n",
        "        dir = os.path.splitext(self.filename)[0] \n",
        "        if os.path.isdir(dir) is False:\n",
        "            os.makedirs(dir)\n",
        "        while success:\n",
        "            resize_image = cv2.resize(image,(self.width, self.height))\n",
        "            cv2.imwrite(dir+\"/frame%d.jpg\" %count,resize_image)\n",
        "            success, image = videoSource.read()\n",
        "            count+=1\n",
        "        #print(\"Read %d Frames\" %count)\n",
        "        return count\n",
        "\n",
        "\n",
        "    def __setFrames(self):\n",
        "\n",
        "        \"\"\"Sets frames from the video.\n",
        "                Retrieves frames from the video and returns an image array.\n",
        "                Image size is 240x320\n",
        "                Before running, video should be in 30FPS.\n",
        "                Args:\n",
        "                Returns:\n",
        "\n",
        "                Raises:\n",
        "                    ValueError: Video File Not Found.\n",
        "        \"\"\"\n",
        "\n",
        "        dir = os.path.splitext(self.filename)[0]  # gets the directory location\n",
        "        if os.path.isdir(dir) is False:\n",
        "            self.__split()\n",
        "\n",
        "        count = len(os.listdir(dir)) #count list of files inside directory\n",
        "\n",
        "        imageArr=[]\n",
        "        for i in range(count):\n",
        "            image = cv2.imread(dir+\"/frame%d.jpg\"%i)\n",
        "            if image is not None: \n",
        "                imageArr.append(image)\n",
        "\n",
        "        self.frames=imageArr\n",
        "        self.frameCount = len(imageArr)\n",
        "\n",
        "    def getFrames(self):\n",
        "        return np.array(self.frames)\n",
        "\n",
        "    def getAnomaly(self):\n",
        "        return self.isAnomaly\n",
        "\n",
        "    def getFilename(self):\n",
        "        return self.filename\n",
        "\n",
        "    def getFrameCount(self):\n",
        "        return self.frameCount\n",
        "\n",
        "    def resize(self, new_width, new_height):\n",
        "        self.frames = [cv2.resize(frame, (new_width, new_height)) for frame in self.frames]\n",
        "\n",
        "    def getSegments(self):\n",
        "        count = self.getFrameCount()\n",
        "        print(\"Getting segments:\", count, \" total frames.\")\n",
        "        frames = np.array(self.getFrames())\n",
        "        print(\"FRAMES SHAPE: %s\" % (str(frames.shape)))\n",
        "        if count % 16 != 0:\n",
        "            print(\"REMOVING FRAMES: %d\" % (count%16))\n",
        "            frames = frames[:-(count%16)]\n",
        "\n",
        "        segments = frames.reshape([-1, 16, 112, 112, 3])\n",
        "        \n",
        "        print(\"SEGMENT SHAPE: %s\" % (str(segments.shape)))\n",
        "        return segments\n",
        "\n",
        "    def __str__(self):\n",
        "        return \"You are print video object, use one of my methods, My filename is \"+self.filename\n"
      ]
    },
    {
      "cell_type": "code",
      "execution_count": null,
      "metadata": {
        "id": "FG1C3wJXDpZ_"
      },
      "outputs": [],
      "source": [
        "import requests\n",
        "import datetime\n",
        "def sms(pesttext):\n",
        "    url = 'https://www.smsgateway.center/SMSApi/rest/send'\n",
        "    f = '%Y-%m-%d %H:%M:%S.%f%z'\n",
        "    from datetime import datetime, timedelta\n",
        "    t = datetime.now() + timedelta(seconds=19830)\n",
        "    out = t.strftime(\"%Y-%m-%d %H:%M:%S\")\n",
        "    print(out)\n",
        "    querystring = {\n",
        "        'userId': 'mitron',\n",
        "        'password': 'Mitron@123',\n",
        "        'senderId': 'MiHelp',\n",
        "        'sendMethod': 'simpleMsg',\n",
        "        'msgType': 'text',\n",
        "        'mobile': '9686469235',\n",
        "        'msg': pesttext,\n",
        "        'duplicateCheck': 'true',\n",
        "        'format': 'json',\n",
        "        'scheduleTime': out,\n",
        "        }\n",
        "    headers = {'cache-control': 'no-cache'}\n",
        "    response = requests.request('GET', url, headers=headers,\n",
        "                                params=querystring)\n",
        "    print(response.text)"
      ]
    },
    {
      "cell_type": "code",
      "execution_count": null,
      "metadata": {
        "id": "LdTcBF5klnCk"
      },
      "outputs": [],
      "source": [
        "otp='252M2A'"
      ]
    },
    {
      "cell_type": "code",
      "execution_count": null,
      "metadata": {
        "id": "TEsrzJKIb0-r"
      },
      "outputs": [],
      "source": [
        "#from ucsd_dataset import ucsd_dataset\n",
        "from models.c3d_model import C3DModel\n",
        "from models.bc_model import BCModel\n",
        "import numpy as np\n",
        "import cv2\n",
        "#from Video import Video\n",
        "\n",
        "def main():\n",
        "    # Load in one of the videos from the dataset\n",
        "    folder = \"data\"#chaange location\n",
        "    selected_video = Video(folder, 1)\n",
        "    selected_video.resize(112,112)\n",
        "    selected_video = selected_video.getSegments()\n",
        "\n",
        "    c3d = C3DModel()\n",
        "    features, elapsed_time = c3d.predict(selected_video)\n",
        "    print(\"c3d\",features)\n",
        "\n",
        "    print(features.shape)\n",
        "    print(\"Extracting features...\")\n",
        "    print(\"Elapsed time: %fs\" % (elapsed_time))\n",
        "    bc = BCModel()\n",
        "    bc.load_model(\"checkpoint/model\")\n",
        "    scores, elapsed_time = bc.predict(features)\n",
        "    #print(\"bc\",scores)\n",
        "    #print(scores.shape)\n",
        "\n",
        "    url = 'data/'#change location\n",
        "    img = []\n",
        "    predictions = []\n",
        "    dir = os.path.splitext(\"data/\")[0]#change Location\n",
        "    frames = len(os.listdir(dir))\n",
        "    imageArr=[]\n",
        "    for i in range(frames):\n",
        "        image = cv2.imread(dir+\"/frame%d.jpg\"%i)\n",
        "        if image is not None:\n",
        "             imageArr.append(image)\n",
        "    print(\"Images loaded!!!\")        \n",
        "\n",
        "    # Collect all the images into a Python list\n",
        "    print(\"Gathering images...\")\n",
        "   # for k in range(0, frames+1):\n",
        "   #     print(\"Progress: %2.1f\" % (float(k) / frames))\n",
        "   #     img.append(cv2.imread(url + '/frame' + str(k) + '.jpg'))\n",
        "\n",
        "    height, width, layers = imageArr[0].shape\n",
        "\n",
        "    print(\"Predicting scores...\")\n",
        "    print(\"Elapsed time: %fs\" % (elapsed_time))\n",
        "\n",
        "    # Iterate through and print out each 16-frame anomaly score and\n",
        "    cou = 0\n",
        "    for i in range(len(scores)):\n",
        "        w = i*16\n",
        "        # Ask use for the name of the video and how many frames to use\n",
        "\n",
        "        if scores[i] > 0.5:\n",
        "          for w in range((i*16),(i+1)*16):\n",
        "              font = cv2.FONT_HERSHEY_SIMPLEX \n",
        "              #cv2.rectangle(img[w],(384,0),(240,240),(0,255,0),3)\n",
        "              print(\"Printing Text...\")\n",
        "              \n",
        "              cv2.putText(imageArr[w],'Risk Detected',(100,100), font, 0.8, (0,0,255), 2, cv2.LINE_AA)\n",
        "              if cou == 0:\n",
        "                 #sms(\"Risk Detected ,Kindly click the location https://goo.gl/maps/Vmk6UpgfW2aSPVrX6\")\n",
        "                 #sms(\"Crime/ Anomaly Detected ,Kindly click the location  https://goo.gl/maps/iXA4gjp4fsdKvqat6\")\n",
        "                 sms('OTP is:'+str(otp)+'--MitronTech')\n",
        "                 cou = cou +1\n",
        "\n",
        "        print(\"Frames (%4d to %4d)\\tScore: %f\\t%s\" % (i*16,(i+1)*16,scores[i], \"Risk detected!\" if scores[i] > .5 else \"\"))\n",
        "        predictions.append(scores[i])\n",
        "        \n",
        "\n",
        "    # Convert the list of images to a video and saves it to the working directory\n",
        "    print(\"Creating video writer...\")\n",
        "    fourcc = cv2.VideoWriter_fourcc(*'XVID')\n",
        "    video = cv2.VideoWriter('Risk.avi', fourcc, 30.0, (width, height))\n",
        "    print(\"Video writer created!\")\n",
        "\n",
        "    print(\"Total Frames: %d\" % (len(img)))\n",
        "\n",
        "    # Writes each image to the video\n",
        "    print(\"Writing Frames...\")\n",
        "    try:\n",
        "        for j in range(0, frames):\n",
        "            print(\"Progress: %2.1f\" % (float(j)/frames))\n",
        "            video.write(imageArr[j])\n",
        "    except (ValueError,IndexError):\n",
        "        print(\"index out of range\")\n",
        "\n",
        "    # Finalization\n",
        "    print(\"Finalizing...\")\n",
        "    cv2.destroyAllWindows()\n",
        "    video.release()\n",
        "    print(\"Finished!!!\")\n",
        "    results = \"\"\n",
        "    predd = predictions\n",
        "    if max(predd) >= 0.5:\n",
        "        print(\"Risk is detected in this Video\")\n",
        "        #flash(\"Risk is detected in uploaded Video. Video is sent to Mail\")\n",
        "    else:\n",
        "        print(\"Risk is not detected in this Video.\")"
      ]
    },
    {
      "cell_type": "code",
      "execution_count": null,
      "metadata": {
        "id": "8z2O9ukuhj5o"
      },
      "outputs": [],
      "source": [
        "if __name__ == '__main__':\n",
        "  main()"
      ]
    },
    {
      "cell_type": "code",
      "execution_count": null,
      "metadata": {
        "id": "ahS-usB_37kp"
      },
      "outputs": [],
      "source": [
        "import sklearn.metrics as metrics\n",
        "# calculate the fpr and tpr for all thresholds of the classification\n",
        "probs = [0,1,1,1,0,1,1,1,1,0,0,1,1,0]\n",
        "preds = [1,0,1,1,0,1,1,1,1,0,1,1,1,0]\n",
        "fpr, tpr, threshold = metrics.roc_curve(probs, preds)\n",
        "roc_auc = metrics.auc(fpr, tpr)\n",
        "\n",
        "# method I: plt\n",
        "import matplotlib.pyplot as plt\n",
        "plt.title('Receiver Operating Characteristic')\n",
        "plt.plot(fpr, tpr, 'b', label = 'AUC = %0.2f' % roc_auc)\n",
        "plt.legend(loc = 'lower right')\n",
        "plt.plot([0, 1], [0, 1],'r--')\n",
        "plt.xlim([0, 1])\n",
        "plt.ylim([0, 1])\n",
        "plt.ylabel('True Positive Rate')\n",
        "plt.xlabel('False Positive Rate')\n",
        "plt.show()"
      ]
    },
    {
      "cell_type": "code",
      "execution_count": null,
      "metadata": {
        "id": "du8LjTsArcNf"
      },
      "outputs": [],
      "source": []
    }
  ],
  "metadata": {
    "colab": {
      "collapsed_sections": [],
      "provenance": []
    },
    "kernelspec": {
      "display_name": "Python 3",
      "name": "python3"
    }
  },
  "nbformat": 4,
  "nbformat_minor": 0
}